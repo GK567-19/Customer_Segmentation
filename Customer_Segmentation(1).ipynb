{
  "metadata": {
    "kernelspec": {
      "name": "xpython",
      "display_name": "Python 3.13 (XPython)",
      "language": "python"
    },
    "language_info": {
      "file_extension": ".py",
      "mimetype": "text/x-python",
      "name": "python",
      "version": "3.13.1"
    }
  },
  "nbformat_minor": 5,
  "nbformat": 4,
  "cells": [
    {
      "id": "b084d490-5327-49e3-a533-997405b52388",
      "cell_type": "code",
      "source": "import pandas as pd\nimport numpy as np\nimport matplotlib.pyplot as plt\nimport seaborn as sns\nfrom sklearn.preprocessing import StandardScaler\nfrom sklearn.cluster import KMeans",
      "metadata": {
        "trusted": true
      },
      "outputs": [
        {
          "ename": "<class 'ModuleNotFoundError'>",
          "evalue": "No module named 'pandas'",
          "traceback": [
            "\u001b[31m---------------------------------------------------------------------------\u001b[39m",
            "\u001b[31mModuleNotFoundError\u001b[39m                       Traceback (most recent call last)",
            "\u001b[36mCell\u001b[39m\u001b[36m \u001b[39m\u001b[32mIn[1]\u001b[39m\u001b[32m, line 1\u001b[39m\n\u001b[32m----> \u001b[39m\u001b[32m1\u001b[39m \u001b[38;5;28;01mimport\u001b[39;00m\u001b[38;5;250m \u001b[39m\u001b[34;01mpandas\u001b[39;00m\u001b[38;5;250m \u001b[39m\u001b[38;5;28;01mas\u001b[39;00m\u001b[38;5;250m \u001b[39m\u001b[34;01mpd\u001b[39;00m\n\u001b[32m      2\u001b[39m \u001b[38;5;28;01mimport\u001b[39;00m\u001b[38;5;250m \u001b[39m\u001b[34;01mnumpy\u001b[39;00m\u001b[38;5;250m \u001b[39m\u001b[38;5;28;01mas\u001b[39;00m\u001b[38;5;250m \u001b[39m\u001b[34;01mnp\u001b[39;00m\n\u001b[32m      3\u001b[39m \u001b[38;5;28;01mimport\u001b[39;00m\u001b[38;5;250m \u001b[39m\u001b[34;01mmatplotlib\u001b[39;00m\u001b[34;01m.\u001b[39;00m\u001b[34;01mpyplot\u001b[39;00m\u001b[38;5;250m \u001b[39m\u001b[38;5;28;01mas\u001b[39;00m\u001b[38;5;250m \u001b[39m\u001b[34;01mplt\u001b[39;00m\n",
            "\u001b[31mModuleNotFoundError\u001b[39m: No module named 'pandas'"
          ],
          "output_type": "error"
        }
      ],
      "execution_count": 1
    },
    {
      "id": "c72a0790-ac4f-4ed5-90ed-7f8b54d8b19b",
      "cell_type": "code",
      "source": "import pandas as pd\n\ndf=pd.read_csv('Customer_Segmentation (Dataset).csv')\nprint(df.head())",
      "metadata": {
        "trusted": true
      },
      "outputs": [
        {
          "name": "stdout",
          "output_type": "stream",
          "text": "       ID  Gender Ever_Married  Age Graduated  Profession  Work_Experience  \\\n0  458989  Female          Yes   36       Yes    Engineer              0.0   \n1  458994    Male          Yes   37       Yes  Healthcare              8.0   \n2  458996  Female          Yes   69        No         NaN              0.0   \n3  459000    Male          Yes   59        No   Executive             11.0   \n4  459001  Female           No   19        No   Marketing              NaN   \n\n  Spending_Score  Family_Size  Var_1 Segmentation  \n0            Low          1.0  Cat_6            B  \n1        Average          4.0  Cat_6            A  \n2            Low          1.0  Cat_6            A  \n3           High          2.0  Cat_6            B  \n4            Low          4.0  Cat_6            A  \n"
        }
      ],
      "execution_count": 37
    },
    {
      "id": "64b3607d-e8b5-4f70-91d7-e7793ed61048",
      "cell_type": "code",
      "source": "",
      "metadata": {
        "trusted": true
      },
      "outputs": [
        {
          "ename": "<class 'OSError'>",
          "evalue": "Not available",
          "traceback": [
            "\u001b[0;31m---------------------------------------------------------------------------\u001b[0m",
            "\u001b[0;31mOSError\u001b[0m                                   Traceback (most recent call last)",
            "Cell \u001b[0;32mIn[2], line 1\u001b[0m\n\u001b[0;32m----> 1\u001b[0m \u001b[43mget_ipython\u001b[49m\u001b[43m(\u001b[49m\u001b[43m)\u001b[49m\u001b[38;5;241;43m.\u001b[39;49m\u001b[43msystem\u001b[49m\u001b[43m(\u001b[49m\u001b[38;5;124;43m'\u001b[39;49m\u001b[38;5;124;43mpip install seaborn\u001b[39;49m\u001b[38;5;124;43m'\u001b[39;49m\u001b[43m)\u001b[49m\n",
            "File \u001b[0;32m/lib/python3.12/site-packages/IPython/core/interactiveshell.py:2653\u001b[0m, in \u001b[0;36mInteractiveShell.system_piped\u001b[0;34m(self, cmd)\u001b[0m\n\u001b[1;32m   2648\u001b[0m     \u001b[38;5;28;01mraise\u001b[39;00m \u001b[38;5;167;01mOSError\u001b[39;00m(\u001b[38;5;124m\"\u001b[39m\u001b[38;5;124mBackground processes not supported.\u001b[39m\u001b[38;5;124m\"\u001b[39m)\n\u001b[1;32m   2650\u001b[0m \u001b[38;5;66;03m# we explicitly do NOT return the subprocess status code, because\u001b[39;00m\n\u001b[1;32m   2651\u001b[0m \u001b[38;5;66;03m# a non-None value would trigger :func:`sys.displayhook` calls.\u001b[39;00m\n\u001b[1;32m   2652\u001b[0m \u001b[38;5;66;03m# Instead, we store the exit_code in user_ns.\u001b[39;00m\n\u001b[0;32m-> 2653\u001b[0m \u001b[38;5;28mself\u001b[39m\u001b[38;5;241m.\u001b[39muser_ns[\u001b[38;5;124m'\u001b[39m\u001b[38;5;124m_exit_code\u001b[39m\u001b[38;5;124m'\u001b[39m] \u001b[38;5;241m=\u001b[39m \u001b[43msystem\u001b[49m\u001b[43m(\u001b[49m\u001b[38;5;28;43mself\u001b[39;49m\u001b[38;5;241;43m.\u001b[39;49m\u001b[43mvar_expand\u001b[49m\u001b[43m(\u001b[49m\u001b[43mcmd\u001b[49m\u001b[43m,\u001b[49m\u001b[43m \u001b[49m\u001b[43mdepth\u001b[49m\u001b[38;5;241;43m=\u001b[39;49m\u001b[38;5;241;43m1\u001b[39;49m\u001b[43m)\u001b[49m\u001b[43m)\u001b[49m\n",
            "File \u001b[0;32m/lib/python3.12/site-packages/IPython/utils/_process_emscripten.py:11\u001b[0m, in \u001b[0;36msystem\u001b[0;34m(cmd)\u001b[0m\n\u001b[1;32m     10\u001b[0m \u001b[38;5;28;01mdef\u001b[39;00m \u001b[38;5;21msystem\u001b[39m(cmd):\n\u001b[0;32m---> 11\u001b[0m     \u001b[38;5;28;01mraise\u001b[39;00m \u001b[38;5;167;01mOSError\u001b[39;00m(\u001b[38;5;124m\"\u001b[39m\u001b[38;5;124mNot available\u001b[39m\u001b[38;5;124m\"\u001b[39m)\n",
            "\u001b[0;31mOSError\u001b[0m: Not available"
          ],
          "output_type": "error"
        }
      ],
      "execution_count": 2
    },
    {
      "id": "1acf59ef-b675-4a5b-90a5-f7d62e31e4d2",
      "cell_type": "code",
      "source": "print(\"Sample data:\")\ndisplay(df.head())",
      "metadata": {
        "trusted": true
      },
      "outputs": [
        {
          "name": "stdout",
          "output_type": "stream",
          "text": "Sample data:\n"
        },
        {
          "output_type": "display_data",
          "data": {
            "text/plain": "       ID  Gender Ever_Married  Age Graduated  Profession  Work_Experience  \\\n0  458989  Female          Yes   36       Yes    Engineer              0.0   \n1  458994    Male          Yes   37       Yes  Healthcare              8.0   \n2  458996  Female          Yes   69        No         NaN              0.0   \n3  459000    Male          Yes   59        No   Executive             11.0   \n4  459001  Female           No   19        No   Marketing              NaN   \n\n  Spending_Score  Family_Size  Var_1 Segmentation  \n0            Low          1.0  Cat_6            B  \n1        Average          4.0  Cat_6            A  \n2            Low          1.0  Cat_6            A  \n3           High          2.0  Cat_6            B  \n4            Low          4.0  Cat_6            A  ",
            "text/html": "<div>\n<style scoped>\n    .dataframe tbody tr th:only-of-type {\n        vertical-align: middle;\n    }\n\n    .dataframe tbody tr th {\n        vertical-align: top;\n    }\n\n    .dataframe thead th {\n        text-align: right;\n    }\n</style>\n<table border=\"1\" class=\"dataframe\">\n  <thead>\n    <tr style=\"text-align: right;\">\n      <th></th>\n      <th>ID</th>\n      <th>Gender</th>\n      <th>Ever_Married</th>\n      <th>Age</th>\n      <th>Graduated</th>\n      <th>Profession</th>\n      <th>Work_Experience</th>\n      <th>Spending_Score</th>\n      <th>Family_Size</th>\n      <th>Var_1</th>\n      <th>Segmentation</th>\n    </tr>\n  </thead>\n  <tbody>\n    <tr>\n      <th>0</th>\n      <td>458989</td>\n      <td>Female</td>\n      <td>Yes</td>\n      <td>36</td>\n      <td>Yes</td>\n      <td>Engineer</td>\n      <td>0.0</td>\n      <td>Low</td>\n      <td>1.0</td>\n      <td>Cat_6</td>\n      <td>B</td>\n    </tr>\n    <tr>\n      <th>1</th>\n      <td>458994</td>\n      <td>Male</td>\n      <td>Yes</td>\n      <td>37</td>\n      <td>Yes</td>\n      <td>Healthcare</td>\n      <td>8.0</td>\n      <td>Average</td>\n      <td>4.0</td>\n      <td>Cat_6</td>\n      <td>A</td>\n    </tr>\n    <tr>\n      <th>2</th>\n      <td>458996</td>\n      <td>Female</td>\n      <td>Yes</td>\n      <td>69</td>\n      <td>No</td>\n      <td>NaN</td>\n      <td>0.0</td>\n      <td>Low</td>\n      <td>1.0</td>\n      <td>Cat_6</td>\n      <td>A</td>\n    </tr>\n    <tr>\n      <th>3</th>\n      <td>459000</td>\n      <td>Male</td>\n      <td>Yes</td>\n      <td>59</td>\n      <td>No</td>\n      <td>Executive</td>\n      <td>11.0</td>\n      <td>High</td>\n      <td>2.0</td>\n      <td>Cat_6</td>\n      <td>B</td>\n    </tr>\n    <tr>\n      <th>4</th>\n      <td>459001</td>\n      <td>Female</td>\n      <td>No</td>\n      <td>19</td>\n      <td>No</td>\n      <td>Marketing</td>\n      <td>NaN</td>\n      <td>Low</td>\n      <td>4.0</td>\n      <td>Cat_6</td>\n      <td>A</td>\n    </tr>\n  </tbody>\n</table>\n</div>"
          },
          "metadata": {}
        }
      ],
      "execution_count": 38
    },
    {
      "id": "a3a5a1ba-982d-4474-a8fe-99eccd337c52",
      "cell_type": "code",
      "source": "print(\"Sample data:\")\ndisplay(df.tail())",
      "metadata": {
        "trusted": true
      },
      "outputs": [
        {
          "name": "stdout",
          "output_type": "stream",
          "text": "Sample data:\n"
        },
        {
          "output_type": "display_data",
          "data": {
            "text/plain": "          ID  Gender Ever_Married  Age Graduated     Profession  \\\n2622  467954    Male           No   29        No     Healthcare   \n2623  467958  Female           No   35       Yes         Doctor   \n2624  467960  Female           No   53       Yes  Entertainment   \n2625  467961    Male          Yes   47       Yes      Executive   \n2626  467968  Female           No   43       Yes     Healthcare   \n\n      Work_Experience Spending_Score  Family_Size  Var_1 Segmentation  \n2622              9.0            Low          4.0  Cat_6            B  \n2623              1.0            Low          1.0  Cat_6            A  \n2624              NaN            Low          2.0  Cat_6            C  \n2625              1.0           High          5.0  Cat_4            C  \n2626              9.0            Low          3.0  Cat_7            A  ",
            "text/html": "<div>\n<style scoped>\n    .dataframe tbody tr th:only-of-type {\n        vertical-align: middle;\n    }\n\n    .dataframe tbody tr th {\n        vertical-align: top;\n    }\n\n    .dataframe thead th {\n        text-align: right;\n    }\n</style>\n<table border=\"1\" class=\"dataframe\">\n  <thead>\n    <tr style=\"text-align: right;\">\n      <th></th>\n      <th>ID</th>\n      <th>Gender</th>\n      <th>Ever_Married</th>\n      <th>Age</th>\n      <th>Graduated</th>\n      <th>Profession</th>\n      <th>Work_Experience</th>\n      <th>Spending_Score</th>\n      <th>Family_Size</th>\n      <th>Var_1</th>\n      <th>Segmentation</th>\n    </tr>\n  </thead>\n  <tbody>\n    <tr>\n      <th>2622</th>\n      <td>467954</td>\n      <td>Male</td>\n      <td>No</td>\n      <td>29</td>\n      <td>No</td>\n      <td>Healthcare</td>\n      <td>9.0</td>\n      <td>Low</td>\n      <td>4.0</td>\n      <td>Cat_6</td>\n      <td>B</td>\n    </tr>\n    <tr>\n      <th>2623</th>\n      <td>467958</td>\n      <td>Female</td>\n      <td>No</td>\n      <td>35</td>\n      <td>Yes</td>\n      <td>Doctor</td>\n      <td>1.0</td>\n      <td>Low</td>\n      <td>1.0</td>\n      <td>Cat_6</td>\n      <td>A</td>\n    </tr>\n    <tr>\n      <th>2624</th>\n      <td>467960</td>\n      <td>Female</td>\n      <td>No</td>\n      <td>53</td>\n      <td>Yes</td>\n      <td>Entertainment</td>\n      <td>NaN</td>\n      <td>Low</td>\n      <td>2.0</td>\n      <td>Cat_6</td>\n      <td>C</td>\n    </tr>\n    <tr>\n      <th>2625</th>\n      <td>467961</td>\n      <td>Male</td>\n      <td>Yes</td>\n      <td>47</td>\n      <td>Yes</td>\n      <td>Executive</td>\n      <td>1.0</td>\n      <td>High</td>\n      <td>5.0</td>\n      <td>Cat_4</td>\n      <td>C</td>\n    </tr>\n    <tr>\n      <th>2626</th>\n      <td>467968</td>\n      <td>Female</td>\n      <td>No</td>\n      <td>43</td>\n      <td>Yes</td>\n      <td>Healthcare</td>\n      <td>9.0</td>\n      <td>Low</td>\n      <td>3.0</td>\n      <td>Cat_7</td>\n      <td>A</td>\n    </tr>\n  </tbody>\n</table>\n</div>"
          },
          "metadata": {}
        }
      ],
      "execution_count": 39
    },
    {
      "id": "7e0fe53a-fb7e-4b71-8f49-8fc19e7cdf48",
      "cell_type": "code",
      "source": "print(\"Data Summary:\")\ndf.info()",
      "metadata": {
        "trusted": true
      },
      "outputs": [
        {
          "name": "stdout",
          "output_type": "stream",
          "text": "Data Summary:\n<class 'pandas.core.frame.DataFrame'>\nRangeIndex: 2627 entries, 0 to 2626\nData columns (total 11 columns):\n #   Column           Non-Null Count  Dtype  \n---  ------           --------------  -----  \n 0   ID               2627 non-null   int64  \n 1   Gender           2627 non-null   object \n 2   Ever_Married     2577 non-null   object \n 3   Age              2627 non-null   int64  \n 4   Graduated        2603 non-null   object \n 5   Profession       2589 non-null   object \n 6   Work_Experience  2358 non-null   float64\n 7   Spending_Score   2627 non-null   object \n 8   Family_Size      2514 non-null   float64\n 9   Var_1            2595 non-null   object \n 10  Segmentation     2627 non-null   object \ndtypes: float64(2), int64(2), object(7)\nmemory usage: 154.0+ KB\n"
        }
      ],
      "execution_count": 40
    },
    {
      "id": "f573c304-ec16-4312-abda-002f8184c8eb",
      "cell_type": "code",
      "source": "print(\"\\nMissing values:\")\nprint(df.isnull().sum())",
      "metadata": {
        "trusted": true
      },
      "outputs": [
        {
          "name": "stdout",
          "output_type": "stream",
          "text": "\nMissing values:\nID                   0\nGender               0\nEver_Married        50\nAge                  0\nGraduated           24\nProfession          38\nWork_Experience    269\nSpending_Score       0\nFamily_Size        113\nVar_1               32\nSegmentation         0\ndtype: int64\n"
        }
      ],
      "execution_count": 41
    },
    {
      "id": "eccdc9a0-8334-43ad-a49e-9049cb120a6d",
      "cell_type": "code",
      "source": "df.dropna(inplace=True)",
      "metadata": {
        "trusted": true
      },
      "outputs": [],
      "execution_count": 42
    },
    {
      "id": "4488743c-35c2-4709-920b-25fa2b9b546c",
      "cell_type": "code",
      "source": "df.describe()",
      "metadata": {
        "trusted": true
      },
      "outputs": [
        {
          "execution_count": 43,
          "output_type": "execute_result",
          "data": {
            "text/plain": "                  ID          Age  Work_Experience  Family_Size\ncount    2154.000000  2154.000000      2154.000000  2154.000000\nmean   463496.744661    43.461467         2.551532     2.837047\nstd      2591.465156    16.761895         3.344917     1.566872\nmin    458989.000000    18.000000         0.000000     1.000000\n25%    461282.250000    30.000000         0.000000     2.000000\n50%    463535.000000    41.000000         1.000000     2.000000\n75%    465705.750000    52.000000         4.000000     4.000000\nmax    467968.000000    89.000000        14.000000     9.000000",
            "text/html": "<div>\n<style scoped>\n    .dataframe tbody tr th:only-of-type {\n        vertical-align: middle;\n    }\n\n    .dataframe tbody tr th {\n        vertical-align: top;\n    }\n\n    .dataframe thead th {\n        text-align: right;\n    }\n</style>\n<table border=\"1\" class=\"dataframe\">\n  <thead>\n    <tr style=\"text-align: right;\">\n      <th></th>\n      <th>ID</th>\n      <th>Age</th>\n      <th>Work_Experience</th>\n      <th>Family_Size</th>\n    </tr>\n  </thead>\n  <tbody>\n    <tr>\n      <th>count</th>\n      <td>2154.000000</td>\n      <td>2154.000000</td>\n      <td>2154.000000</td>\n      <td>2154.000000</td>\n    </tr>\n    <tr>\n      <th>mean</th>\n      <td>463496.744661</td>\n      <td>43.461467</td>\n      <td>2.551532</td>\n      <td>2.837047</td>\n    </tr>\n    <tr>\n      <th>std</th>\n      <td>2591.465156</td>\n      <td>16.761895</td>\n      <td>3.344917</td>\n      <td>1.566872</td>\n    </tr>\n    <tr>\n      <th>min</th>\n      <td>458989.000000</td>\n      <td>18.000000</td>\n      <td>0.000000</td>\n      <td>1.000000</td>\n    </tr>\n    <tr>\n      <th>25%</th>\n      <td>461282.250000</td>\n      <td>30.000000</td>\n      <td>0.000000</td>\n      <td>2.000000</td>\n    </tr>\n    <tr>\n      <th>50%</th>\n      <td>463535.000000</td>\n      <td>41.000000</td>\n      <td>1.000000</td>\n      <td>2.000000</td>\n    </tr>\n    <tr>\n      <th>75%</th>\n      <td>465705.750000</td>\n      <td>52.000000</td>\n      <td>4.000000</td>\n      <td>4.000000</td>\n    </tr>\n    <tr>\n      <th>max</th>\n      <td>467968.000000</td>\n      <td>89.000000</td>\n      <td>14.000000</td>\n      <td>9.000000</td>\n    </tr>\n  </tbody>\n</table>\n</div>"
          },
          "metadata": {}
        }
      ],
      "execution_count": 43
    },
    {
      "id": "41752571-8e9d-4ef7-9dc6-95fcecb77c06",
      "cell_type": "code",
      "source": "print(df.head())",
      "metadata": {
        "trusted": true
      },
      "outputs": [
        {
          "name": "stdout",
          "output_type": "stream",
          "text": "       ID  Gender Ever_Married  Age Graduated  Profession  Work_Experience  \\\n0  458989  Female          Yes   36       Yes    Engineer              0.0   \n1  458994    Male          Yes   37       Yes  Healthcare              8.0   \n3  459000    Male          Yes   59        No   Executive             11.0   \n5  459003    Male          Yes   47       Yes      Doctor              0.0   \n6  459005    Male          Yes   61       Yes      Doctor              5.0   \n\n  Spending_Score  Family_Size  Var_1 Segmentation  \n0            Low          1.0  Cat_6            B  \n1        Average          4.0  Cat_6            A  \n3           High          2.0  Cat_6            B  \n5           High          5.0  Cat_4            C  \n6            Low          3.0  Cat_6            D  \n"
        }
      ],
      "execution_count": 44
    },
    {
      "id": "c13b22f7-3deb-43bd-b00b-d3f3b9a5fc99",
      "cell_type": "code",
      "source": "features=df.select_dtypes(include=[np.number])",
      "metadata": {
        "trusted": true
      },
      "outputs": [],
      "execution_count": 45
    },
    {
      "id": "9b870974-1c27-4ad6-9cab-af12f706025b",
      "cell_type": "code",
      "source": "print(features.columns)",
      "metadata": {
        "trusted": true
      },
      "outputs": [
        {
          "name": "stdout",
          "output_type": "stream",
          "text": "Index(['ID', 'Age', 'Work_Experience', 'Family_Size'], dtype='object')\n"
        }
      ],
      "execution_count": 46
    },
    {
      "id": "525d9098-2b78-40b9-9d24-f1b1be75bf9e",
      "cell_type": "code",
      "source": "print(features)",
      "metadata": {
        "trusted": true
      },
      "outputs": [
        {
          "name": "stdout",
          "output_type": "stream",
          "text": "          ID  Age  Work_Experience  Family_Size\n0     458989   36              0.0          1.0\n1     458994   37              8.0          4.0\n3     459000   59             11.0          2.0\n5     459003   47              0.0          5.0\n6     459005   61              5.0          3.0\n...      ...  ...              ...          ...\n2621  467950   35              1.0          2.0\n2622  467954   29              9.0          4.0\n2623  467958   35              1.0          1.0\n2625  467961   47              1.0          5.0\n2626  467968   43              9.0          3.0\n\n[2154 rows x 4 columns]\n"
        }
      ],
      "execution_count": 47
    },
    {
      "id": "32d61e58-0f47-458d-80bf-9cf8d8ebf179",
      "cell_type": "code",
      "source": "print(df.isnull().sum())",
      "metadata": {
        "trusted": true
      },
      "outputs": [
        {
          "name": "stdout",
          "output_type": "stream",
          "text": "ID                 0\nGender             0\nEver_Married       0\nAge                0\nGraduated          0\nProfession         0\nWork_Experience    0\nSpending_Score     0\nFamily_Size        0\nVar_1              0\nSegmentation       0\ndtype: int64\n"
        }
      ],
      "execution_count": 48
    },
    {
      "id": "932e3cba-e743-48b1-b9c7-69a4bb101a3e",
      "cell_type": "code",
      "source": "scaler=StandardScaler()\nscaled_data=scaler.fit_transform(features)",
      "metadata": {
        "trusted": true
      },
      "outputs": [],
      "execution_count": 49
    },
    {
      "id": "62960859-64d5-41d1-a7d3-3fdf56413e76",
      "cell_type": "code",
      "source": "import pandas as pd\nscaled_df=pd.DataFrame(scaled_data,columns=features.columns)\nprint(\"Scaled Data(as DataFrame):\")\nprint(scaled_df.head())",
      "metadata": {
        "trusted": true
      },
      "outputs": [
        {
          "name": "stdout",
          "output_type": "stream",
          "text": "Scaled Data(as DataFrame):\n         ID       Age  Work_Experience  Family_Size\n0 -1.739862 -0.445248        -0.762986    -1.172702\n1 -1.737932 -0.385575         1.629258     0.742385\n2 -1.735616  0.927231         2.526349    -0.534340\n3 -1.734458  0.211155        -0.762986     1.380748\n4 -1.733686  1.046577         0.732167     0.104023\n"
        }
      ],
      "execution_count": 50
    },
    {
      "id": "348c517b-b61b-4e6b-85eb-94a4fe6d384f",
      "cell_type": "code",
      "source": "inertia=[]\nfor k in range(1,11):\n  kmeans=KMeans(n_clusters=k,random_state=42)\n  kmeans.fit(scaled_data)\n  inertia.append(kmeans.inertia_)",
      "metadata": {
        "trusted": true
      },
      "outputs": [],
      "execution_count": 51
    },
    {
      "id": "6aa4f8ef-52b5-4de6-b424-845e38b0e961",
      "cell_type": "code",
      "source": "plt.figure(figsize=(8,5))\nplt.plot(range(1,11),inertia,marker='o')\nplt.title(\"Elbow Method For Optimal k\")\nplt.xlabel(\"Number of Clusters\")\nplt.ylabel(\"Inertia\")\nplt.grid(True)\nplt.show()",
      "metadata": {
        "trusted": true
      },
      "outputs": [
        {
          "output_type": "display_data",
          "data": {
            "text/plain": "<Figure size 800x500 with 1 Axes>",
            "image/png": "[encoded data removed]"
          },
          "metadata": {}
        }
      ],
      "execution_count": 52
    },
    {
      "id": "7e71919d-6004-426c-9887-d254503d8362",
      "cell_type": "code",
      "source": "optimal_k=3\nkmeans=KMeans(n_clusters=optimal_k,random_state=42)\ndf['Cluster']=kmeans.fit_predict(scaled_data)",
      "metadata": {
        "trusted": true
      },
      "outputs": [],
      "execution_count": 53
    },
    {
      "id": "fd21eacd-f47b-42fd-9e42-a6890f168ccc",
      "cell_type": "code",
      "source": " pca=PCA(n_components=2)\n reduced_data=pca.fit_transform(scaled_data)\ndf['PCA']=reduced_data[:,0]\ndf['PCA']=reduced_data[:,1]",
      "metadata": {
        "trusted": true
      },
      "outputs": [],
      "execution_count": 54
    },
    {
      "id": "3092e058-2e49-45d0-9f96-ab90f557ac14",
      "cell_type": "code",
      "source": "plt.figure(figsize=(8,6))\nsns.scatterplot(x=\"PCA1\",y=\"PCA2\",hue=\"Cluster\",palette=\"Set1\",data=df)\nplt.title(\"Customer Segments(2D PCA View)\")\nplt.xlabel(\"PCA Component 1\")\nplt.ylabel(\"PCA Component 2\")\nplt.legend()\nplt.grid(True)\nplt.show()",
      "metadata": {
        "trusted": true
      },
      "outputs": [
        {
          "output_type": "display_data",
          "data": {
            "text/plain": "<Figure size 800x600 with 0 Axes>"
          },
          "metadata": {}
        },
        {
          "ename": "<class 'NameError'>",
          "evalue": "name 'sns' is not defined",
          "traceback": [
            "\u001b[0;31m---------------------------------------------------------------------------\u001b[0m",
            "\u001b[0;31mNameError\u001b[0m                                 Traceback (most recent call last)",
            "Cell \u001b[0;32mIn[55], line 2\u001b[0m\n\u001b[1;32m      1\u001b[0m plt\u001b[38;5;241m.\u001b[39mfigure(figsize\u001b[38;5;241m=\u001b[39m(\u001b[38;5;241m8\u001b[39m,\u001b[38;5;241m6\u001b[39m))\n\u001b[0;32m----> 2\u001b[0m \u001b[43msns\u001b[49m\u001b[38;5;241m.\u001b[39mscatterplot(x\u001b[38;5;241m=\u001b[39m\u001b[38;5;124m\"\u001b[39m\u001b[38;5;124mPCA1\u001b[39m\u001b[38;5;124m\"\u001b[39m,y\u001b[38;5;241m=\u001b[39m\u001b[38;5;124m\"\u001b[39m\u001b[38;5;124mPCA2\u001b[39m\u001b[38;5;124m\"\u001b[39m,hue\u001b[38;5;241m=\u001b[39m\u001b[38;5;124m\"\u001b[39m\u001b[38;5;124mCluster\u001b[39m\u001b[38;5;124m\"\u001b[39m,palette\u001b[38;5;241m=\u001b[39m\u001b[38;5;124m\"\u001b[39m\u001b[38;5;124mSet1\u001b[39m\u001b[38;5;124m\"\u001b[39m,data\u001b[38;5;241m=\u001b[39mdf)\n\u001b[1;32m      3\u001b[0m plt\u001b[38;5;241m.\u001b[39mtitle(\u001b[38;5;124m\"\u001b[39m\u001b[38;5;124mCustomer Segments(2D PCA View)\u001b[39m\u001b[38;5;124m\"\u001b[39m)\n\u001b[1;32m      4\u001b[0m plt\u001b[38;5;241m.\u001b[39mxlabel(\u001b[38;5;124m\"\u001b[39m\u001b[38;5;124mPCA Component 1\u001b[39m\u001b[38;5;124m\"\u001b[39m)\n",
            "\u001b[0;31mNameError\u001b[0m: name 'sns' is not defined"
          ],
          "output_type": "error"
        }
      ],
      "execution_count": 55
    },
    {
      "id": "307dd600-c707-44ac-b67b-70ebd18c4c20",
      "cell_type": "code",
      "source": "print(\"\\nCluster-wise summary:\")\ndisplay(df.groupby(\"Cluster\").mean())",
      "metadata": {
        "trusted": true
      },
      "outputs": [],
      "execution_count": null
    }
  ]
}